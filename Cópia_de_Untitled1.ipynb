{
  "nbformat": 4,
  "nbformat_minor": 0,
  "metadata": {
    "colab": {
      "name": "Cópia de Untitled1.ipynb",
      "provenance": [],
      "authorship_tag": "ABX9TyM+UtH/dp3FISlFW0bZe9P/",
      "include_colab_link": true
    },
    "kernelspec": {
      "name": "python3",
      "display_name": "Python 3"
    },
    "language_info": {
      "name": "python"
    }
  },
  "cells": [
    {
      "cell_type": "markdown",
      "metadata": {
        "id": "view-in-github",
        "colab_type": "text"
      },
      "source": [
        "<a href=\"https://colab.research.google.com/github/MariagabrielleMelo070718/certificados/blob/main/C%C3%B3pia_de_Untitled1.ipynb\" target=\"_parent\"><img src=\"https://colab.research.google.com/assets/colab-badge.svg\" alt=\"Open In Colab\"/></a>"
      ]
    },
    {
      "cell_type": "code",
      "metadata": {
        "colab": {
          "base_uri": "https://localhost:8080/"
        },
        "id": "AsOd3nivwTK6",
        "outputId": "31be43c7-a91e-4a9d-9070-222bdefd6f43"
      },
      "source": [
        "print('Olá ETE Porto Digital')\n",
        "\n",
        "x = 3\n",
        "print(x)\n",
        "\n",
        "x = 2 + 3\n",
        "print(x)\n",
        "\n",
        "#n1 = float(input('nota'))\n",
        "#n2 = float(input('nota'))\n",
        "#n3 = float(input('nota'))\n",
        "#n4 = float(input('nota'))\n",
        "#print('sua nota final é:', (n1+n2+n3+n4)/4)\n",
        "\n",
        "#metros = int(input('Digite o número em metros'))\n",
        "#C = metros*100\n",
        "#print('essa medita em centimetro é:' , C*100,'cm')\n",
        "\n",
        "#r = float(input('Qual o raio do círculo? ')) #Receber o valor do raio\n",
        "#a = r * 3.14 # Calculo da área\n",
        "#print(f'A área do círculo é {a}')\n",
        "\n",
        "lado = float(input(\"Informe o lado do quadrado\"))\n",
        "area = lado * lado\n",
        "dobro = area * 2\n",
        "print(\"a área é\",area, \"e o dobro é \", dobro)\n",
        "\n",
        "gh = int(input(\"Quanto voce ganha por hora: \"))\n",
        "hm = int(input(\"Numero de horas trabalhadas no mes: \"))\n",
        "print(\"Você ganha R$\",(hm*gh))\n",
        "\n",
        "num = int(input(\"escreva um numero positivo ou negativo: \"))\n",
        "if num < 0:\n",
        "  print(\"o numero é negativo\")\n",
        "else:\n",
        "  print(\"o numero é positivo\")\n",
        "\n",
        "a=input('m ou f: ')\n",
        "\n",
        "a=input('m ou f: ')\n",
        "\n",
        "if a == 'm':\n",
        "    print('Masculina')\n",
        "else:\n",
        "    if a == 'f':\n",
        "          print('Feminina')\n",
        "    else:\n",
        "        print('Sexo invalido')\n",
        "\n",
        "\n"
      ],
      "execution_count": null,
      "outputs": [
        {
          "output_type": "stream",
          "text": [
            "Olá ETE Porto Digital\n",
            "3\n",
            "5\n",
            "Informe o lado do quadrado4\n",
            "a área é 16.0 e o dobro é  32.0\n",
            "Quanto voce ganha por hora: 100\n",
            "Numero de horas trabalhadas no mes: 2000\n",
            "Você ganha R$ 200000\n",
            "escreva um numero positivo ou negativo: 4\n",
            "o numero é positivo\n",
            "m ou f: m\n",
            "m ou f: m\n",
            "Masculina\n"
          ],
          "name": "stdout"
        }
      ]
    }
  ]
}